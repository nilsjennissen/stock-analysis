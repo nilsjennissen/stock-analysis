{
 "cells": [
  {
   "cell_type": "markdown",
   "source": [
    "# Downloading open financial data"
   ],
   "metadata": {
    "collapsed": false
   }
  },
  {
   "cell_type": "code",
   "execution_count": 80,
   "metadata": {
    "collapsed": true,
    "ExecuteTime": {
     "start_time": "2023-04-10T11:46:27.059136Z",
     "end_time": "2023-04-10T11:46:27.065144Z"
    }
   },
   "outputs": [],
   "source": [
    "# Import libraries\n",
    "import pyfinance\n",
    "from pandas_datareader import data as pdr\n",
    "from datetime import date\n",
    "import yfinance as yf\n",
    "yf.pdr_override()\n",
    "import pandas as pd"
   ]
  },
  {
   "cell_type": "markdown",
   "source": [
    "### Yahoo single ticker"
   ],
   "metadata": {
    "collapsed": false
   }
  },
  {
   "cell_type": "code",
   "execution_count": 81,
   "outputs": [
    {
     "name": "stdout",
     "output_type": "stream",
     "text": [
      "[*********************100%***********************]  1 of 1 completed\n"
     ]
    },
    {
     "data": {
      "text/plain": "                 Open       High        Low      Close  Adj Close     Volume\nDate                                                                        \n2017-01-03  28.950001  29.082500  28.690001  29.037500  27.133326  115127600\n2017-01-04  28.962500  29.127501  28.937500  29.004999  27.102955   84472400\n2017-01-05  28.980000  29.215000  28.952499  29.152500  27.240782   88774400\n2017-01-06  29.195000  29.540001  29.117500  29.477501  27.544477  127007600\n2017-01-09  29.487499  29.857500  29.485001  29.747499  27.796766  134247600",
      "text/html": "<div>\n<style scoped>\n    .dataframe tbody tr th:only-of-type {\n        vertical-align: middle;\n    }\n\n    .dataframe tbody tr th {\n        vertical-align: top;\n    }\n\n    .dataframe thead th {\n        text-align: right;\n    }\n</style>\n<table border=\"1\" class=\"dataframe\">\n  <thead>\n    <tr style=\"text-align: right;\">\n      <th></th>\n      <th>Open</th>\n      <th>High</th>\n      <th>Low</th>\n      <th>Close</th>\n      <th>Adj Close</th>\n      <th>Volume</th>\n    </tr>\n    <tr>\n      <th>Date</th>\n      <th></th>\n      <th></th>\n      <th></th>\n      <th></th>\n      <th></th>\n      <th></th>\n    </tr>\n  </thead>\n  <tbody>\n    <tr>\n      <th>2017-01-03</th>\n      <td>28.950001</td>\n      <td>29.082500</td>\n      <td>28.690001</td>\n      <td>29.037500</td>\n      <td>27.133326</td>\n      <td>115127600</td>\n    </tr>\n    <tr>\n      <th>2017-01-04</th>\n      <td>28.962500</td>\n      <td>29.127501</td>\n      <td>28.937500</td>\n      <td>29.004999</td>\n      <td>27.102955</td>\n      <td>84472400</td>\n    </tr>\n    <tr>\n      <th>2017-01-05</th>\n      <td>28.980000</td>\n      <td>29.215000</td>\n      <td>28.952499</td>\n      <td>29.152500</td>\n      <td>27.240782</td>\n      <td>88774400</td>\n    </tr>\n    <tr>\n      <th>2017-01-06</th>\n      <td>29.195000</td>\n      <td>29.540001</td>\n      <td>29.117500</td>\n      <td>29.477501</td>\n      <td>27.544477</td>\n      <td>127007600</td>\n    </tr>\n    <tr>\n      <th>2017-01-09</th>\n      <td>29.487499</td>\n      <td>29.857500</td>\n      <td>29.485001</td>\n      <td>29.747499</td>\n      <td>27.796766</td>\n      <td>134247600</td>\n    </tr>\n  </tbody>\n</table>\n</div>"
     },
     "execution_count": 81,
     "metadata": {},
     "output_type": "execute_result"
    }
   ],
   "source": [
    "# Load data from yahoo finance\n",
    "data = pdr.get_data_yahoo(\"AAPL\", start=\"2017-01-01\", end=\"2019-12-31\")\n",
    "data.head()"
   ],
   "metadata": {
    "collapsed": false,
    "ExecuteTime": {
     "start_time": "2023-04-10T11:46:28.726097Z",
     "end_time": "2023-04-10T11:46:28.978524Z"
    }
   }
  },
  {
   "cell_type": "markdown",
   "source": [
    "### Storing multiple tickers to csv"
   ],
   "metadata": {
    "collapsed": false
   }
  },
  {
   "cell_type": "code",
   "execution_count": 82,
   "outputs": [
    {
     "name": "stdout",
     "output_type": "stream",
     "text": [
      "DJIA\n",
      "[*********************100%***********************]  1 of 1 completed\n",
      "DOW\n",
      "[*********************100%***********************]  1 of 1 completed\n",
      "LB\n",
      "[*********************100%***********************]  1 of 1 completed\n",
      "\n",
      "1 Failed download:\n",
      "- LB: No timezone found, symbol may be delisted\n",
      "EXPE\n",
      "[*********************100%***********************]  1 of 1 completed\n",
      "PXD\n",
      "[*********************100%***********************]  1 of 1 completed\n",
      "MCHP\n",
      "[*********************100%***********************]  1 of 1 completed\n",
      "CRM\n",
      "[*********************100%***********************]  1 of 1 completed\n",
      "JEC\n",
      "[*********************100%***********************]  1 of 1 completed\n",
      "\n",
      "1 Failed download:\n",
      "- JEC: No timezone found, symbol may be delisted\n",
      "NRG\n",
      "[*********************100%***********************]  1 of 1 completed\n",
      "HFC\n",
      "[*********************100%***********************]  1 of 1 completed\n",
      "\n",
      "1 Failed download:\n",
      "- HFC: No timezone found, symbol may be delisted\n",
      "NOW\n",
      "[*********************100%***********************]  1 of 1 completed\n",
      "         Date       Open       High        Low      Close  Adj Close  Volume\n",
      "0  2022-02-24  23.780001  24.202999  23.650000  24.202999  21.700880   22700\n",
      "1  2022-02-25  24.410000  24.580999  24.190001  24.580999  22.039803   26800\n",
      "2  2022-02-28  24.670000  24.670000  24.440001  24.598000  22.055042    4100\n",
      "3  2022-03-01  24.780001  24.780001  24.219999  24.271999  21.762745    8300\n",
      "4  2022-03-02  24.650000  24.709999  24.420000  24.660000  22.110636   14300\n",
      "         Date       Open       High        Low      Close  Adj Close   Volume\n",
      "0  2021-01-04  55.820000  56.120998  53.650002  54.040001  48.609627  4852800\n",
      "1  2021-01-05  54.139999  56.169998  54.000000  55.799999  50.192772  3112800\n",
      "2  2021-01-06  56.950001  59.209999  56.549999  58.430000  52.558483  6208400\n",
      "3  2021-01-07  59.000000  59.770000  58.105000  58.509998  52.630455  4437600\n",
      "4  2021-01-08  58.369999  58.860001  57.750000  58.209999  52.360592  4063500\n",
      "Empty DataFrame\n",
      "Columns: [Date, Open, High, Low, Close, Adj Close, Volume]\n",
      "Index: []\n",
      "         Date        Open        High         Low       Close   Adj Close  \\\n",
      "0  2021-01-04  134.570007  135.869995  128.309998  131.369995  131.369995   \n",
      "1  2021-01-05  131.470001  137.940002  131.460007  137.139999  137.139999   \n",
      "2  2021-01-06  138.110001  147.550003  136.839996  143.419998  143.419998   \n",
      "3  2021-01-07  144.110001  144.669998  139.839996  142.289993  142.289993   \n",
      "4  2021-01-08  143.399994  144.750000  141.050003  144.020004  144.020004   \n",
      "\n",
      "    Volume  \n",
      "0  3472400  \n",
      "1  3487300  \n",
      "2  4559100  \n",
      "3  2173500  \n",
      "4  1484000  \n",
      "         Date        Open        High         Low       Close   Adj Close  \\\n",
      "0  2021-01-04  115.019997  116.370003  111.820000  113.480003   95.742035   \n",
      "1  2021-01-05  115.169998  124.500000  114.980003  121.349998  102.381874   \n",
      "2  2021-01-06  122.389999  128.460007  121.300003  126.360001  106.608765   \n",
      "3  2021-01-07  128.380005  133.410004  127.279999  131.990005  111.358772   \n",
      "4  2021-01-08  133.779999  133.779999  130.119995  131.240005  110.725990   \n",
      "\n",
      "    Volume  \n",
      "0  1631300  \n",
      "1  3046000  \n",
      "2  3447400  \n",
      "3  2931500  \n",
      "4  3147800  \n",
      "         Date       Open       High        Low      Close  Adj Close   Volume\n",
      "0  2021-01-04  69.474998  71.129997  68.209999  68.589996  66.444519  4297000\n",
      "1  2021-01-05  68.775002  70.169998  68.644997  70.095001  67.902458  3788000\n",
      "2  2021-01-06  70.910004  73.449997  70.099998  71.440002  69.205376  5817200\n",
      "3  2021-01-07  72.364998  74.680000  72.315002  74.349998  72.024345  6604600\n",
      "4  2021-01-08  75.834999  76.425003  73.180000  73.699997  71.394676  5197600\n",
      "         Date        Open        High         Low       Close   Adj Close  \\\n",
      "0  2021-01-04  222.639999  223.750000  215.720001  220.309998  220.309998   \n",
      "1  2021-01-05  219.490005  223.000000  217.990005  221.520004  221.520004   \n",
      "2  2021-01-06  218.000000  220.460007  215.779999  216.149994  216.149994   \n",
      "3  2021-01-07  217.029999  220.660004  216.500000  217.979996  217.979996   \n",
      "4  2021-01-08  220.000000  222.320007  219.220001  222.039993  222.039993   \n",
      "\n",
      "     Volume  \n",
      "0  10319900  \n",
      "1   8657200  \n",
      "2   9789800  \n",
      "3   8443100  \n",
      "4   7301700  \n",
      "Empty DataFrame\n",
      "Columns: [Date, Open, High, Low, Close, Adj Close, Volume]\n",
      "Index: []\n",
      "         Date       Open       High        Low      Close  Adj Close   Volume\n",
      "0  2021-01-04  37.730000  37.770000  36.169998  36.299999  33.524067  2887700\n",
      "1  2021-01-05  35.900002  37.139999  35.730000  36.810001  33.995060  2240000\n",
      "2  2021-01-06  37.259998  37.759998  37.029999  37.220001  34.373711  2506600\n",
      "3  2021-01-07  37.500000  37.970001  36.959999  37.400002  34.539940  2715500\n",
      "4  2021-01-08  37.770000  39.270000  37.700001  39.009998  36.026821  3321200\n",
      "Empty DataFrame\n",
      "Columns: [Date, Open, High, Low, Close, Adj Close, Volume]\n",
      "Index: []\n",
      "         Date        Open        High         Low       Close   Adj Close  \\\n",
      "0  2021-01-04  556.940002  557.359985  521.510010  526.830017  526.830017   \n",
      "1  2021-01-05  526.039978  533.330017  524.799988  531.969971  531.969971   \n",
      "2  2021-01-06  519.770020  520.940002  507.059998  507.250000  507.250000   \n",
      "3  2021-01-07  510.000000  516.900024  508.709991  511.410004  511.410004   \n",
      "4  2021-01-08  521.640015  531.609985  518.159973  529.640015  529.640015   \n",
      "\n",
      "    Volume  \n",
      "0  1889200  \n",
      "1  1544200  \n",
      "2  1969800  \n",
      "3  1869600  \n",
      "4  1594900  \n",
      "<bound method NDFrame.head of            Date        Open        High         Low       Close   Adj Close  \\\n",
      "0    2021-01-04  556.940002  557.359985  521.510010  526.830017  526.830017   \n",
      "1    2021-01-05  526.039978  533.330017  524.799988  531.969971  531.969971   \n",
      "2    2021-01-06  519.770020  520.940002  507.059998  507.250000  507.250000   \n",
      "3    2021-01-07  510.000000  516.900024  508.709991  511.410004  511.410004   \n",
      "4    2021-01-08  521.640015  531.609985  518.159973  529.640015  529.640015   \n",
      "..          ...         ...         ...         ...         ...         ...   \n",
      "562  2023-03-29  433.549988  438.989990  431.290009  438.440002  438.440002   \n",
      "563  2023-03-30  443.540009  443.839996  438.079987  439.630005  439.630005   \n",
      "564  2023-03-31  443.100006  465.410004  441.619995  464.720001  464.720001   \n",
      "565  2023-04-03  461.529999  465.890015  457.410004  464.489990  464.489990   \n",
      "566  2023-04-04  475.440002  482.329987  472.380005  476.049988  476.049988   \n",
      "\n",
      "      Volume  \n",
      "0    1889200  \n",
      "1    1544200  \n",
      "2    1969800  \n",
      "3    1869600  \n",
      "4    1594900  \n",
      "..       ...  \n",
      "562  1304500  \n",
      "563  1078700  \n",
      "564  2453900  \n",
      "565  1358600  \n",
      "566  2247200  \n",
      "\n",
      "[567 rows x 7 columns]>\n"
     ]
    }
   ],
   "source": [
    "ticker_list=['DJIA', 'DOW', 'LB', 'EXPE', 'PXD', 'MCHP', 'CRM', 'JEC', 'NRG', 'HFC', 'NOW']\n",
    "today = date.today()\n",
    "start_date = '2021-01-01'\n",
    "end_date = '2023-04-05'\n",
    "\n",
    "files=[]\n",
    "\n",
    "def get_data(ticker):\n",
    "    print (ticker)\n",
    "    data = pdr.get_data_yahoo(ticker, start=start_date, end=end_date)\n",
    "    dataname= ticker+'_'+str(today)\n",
    "    files.append(dataname)\n",
    "    save_data(data, dataname)\n",
    "\n",
    "def save_data(df, filename):\n",
    "    df.to_csv('./data/'+filename+'.csv')\n",
    "\n",
    "for tik in ticker_list:\n",
    "    get_data(tik)\n",
    "\n",
    "for file in files:\n",
    "    df1 = pd.read_csv('./data/'+str(file)+'.csv')\n",
    "    print(df1.head())\n",
    "\n",
    "print(df1.head)"
   ],
   "metadata": {
    "collapsed": false,
    "ExecuteTime": {
     "start_time": "2023-04-10T11:46:30.748991Z",
     "end_time": "2023-04-10T11:46:33.268826Z"
    }
   }
  },
  {
   "cell_type": "markdown",
   "source": [
    "### Ticker objects and company information"
   ],
   "metadata": {
    "collapsed": false
   }
  },
  {
   "cell_type": "code",
   "execution_count": 113,
   "outputs": [],
   "source": [
    "tickers = yf.Tickers('msft aapl goog')"
   ],
   "metadata": {
    "collapsed": false,
    "ExecuteTime": {
     "start_time": "2023-04-10T11:59:45.609855Z",
     "end_time": "2023-04-10T11:59:45.616930Z"
    }
   }
  },
  {
   "cell_type": "code",
   "execution_count": 114,
   "outputs": [],
   "source": [
    "# access each ticker using (example)\n",
    "msft  = tickers.tickers['MSFT']\n",
    "aapl  = tickers.tickers['AAPL']\n",
    "goog  = tickers.tickers['GOOG']\n"
   ],
   "metadata": {
    "collapsed": false,
    "ExecuteTime": {
     "start_time": "2023-04-10T11:59:46.181552Z",
     "end_time": "2023-04-10T11:59:46.189618Z"
    }
   }
  },
  {
   "cell_type": "code",
   "execution_count": 115,
   "outputs": [
    {
     "data": {
      "text/plain": "Date\n2003-02-19 00:00:00-05:00    0.08\n2003-10-15 00:00:00-04:00    0.16\n2004-08-23 00:00:00-04:00    0.08\n2004-11-15 00:00:00-05:00    3.08\n2005-02-15 00:00:00-05:00    0.08\n                             ... \n2022-02-16 00:00:00-05:00    0.62\n2022-05-18 00:00:00-04:00    0.62\n2022-08-17 00:00:00-04:00    0.62\n2022-11-16 00:00:00-05:00    0.68\n2023-02-15 00:00:00-05:00    0.68\nName: Dividends, Length: 77, dtype: float64"
     },
     "execution_count": 115,
     "metadata": {},
     "output_type": "execute_result"
    }
   ],
   "source": [
    "msft.dividends"
   ],
   "metadata": {
    "collapsed": false,
    "ExecuteTime": {
     "start_time": "2023-04-10T11:59:46.702133Z",
     "end_time": "2023-04-10T11:59:47.092154Z"
    }
   }
  },
  {
   "cell_type": "markdown",
   "source": [],
   "metadata": {
    "collapsed": false
   }
  }
 ],
 "metadata": {
  "kernelspec": {
   "display_name": "Python 3",
   "language": "python",
   "name": "python3"
  },
  "language_info": {
   "codemirror_mode": {
    "name": "ipython",
    "version": 2
   },
   "file_extension": ".py",
   "mimetype": "text/x-python",
   "name": "python",
   "nbconvert_exporter": "python",
   "pygments_lexer": "ipython2",
   "version": "2.7.6"
  }
 },
 "nbformat": 4,
 "nbformat_minor": 0
}
